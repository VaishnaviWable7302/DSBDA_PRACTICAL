{
  "nbformat": 4,
  "nbformat_minor": 0,
  "metadata": {
    "colab": {
      "provenance": []
    },
    "kernelspec": {
      "name": "python3",
      "display_name": "Python 3"
    },
    "language_info": {
      "name": "python"
    }
  },
  "cells": [
    {
      "cell_type": "code",
      "execution_count": null,
      "metadata": {
        "colab": {
          "base_uri": "https://localhost:8080/"
        },
        "id": "yqVLzuJoeUtO",
        "outputId": "c2137ac3-9563-441c-cc9a-f6c2f3cd46ff"
      },
      "outputs": [
        {
          "output_type": "stream",
          "name": "stdout",
          "text": [
            "      count       mean       std   min      25%    50%      75%    max\n",
            "day                                                                   \n",
            "Thur   62.0  17.682742  7.886170  7.51  12.4425  16.20  20.1550  43.11\n",
            "Fri    19.0  17.151579  8.302660  5.75  12.0950  15.38  21.7500  40.17\n",
            "Sat    87.0  20.441379  9.480419  3.07  13.9050  18.24  24.7400  50.81\n",
            "Sun    76.0  21.410000  8.832122  7.25  14.9875  19.63  25.5975  48.17\n"
          ]
        }
      ],
      "source": [
        "import seaborn as sns\n",
        "\n",
        "# Load the tips dataset from seaborn\n",
        "tips_df = sns.load_dataset('tips')\n",
        "\n",
        "# Group the dataset by day and calculate summary statistics for total_bill\n",
        "day_grouped = tips_df.groupby('day')['total_bill'].describe()\n",
        "\n",
        "# Print the summary statistics\n",
        "print(day_grouped)\n"
      ]
    },
    {
      "cell_type": "code",
      "source": [
        "import seaborn as sns\n",
        "\n",
        "# Load the iris dataset from seaborn\n",
        "iris_df = sns.load_dataset('iris')\n",
        "\n",
        "# Filter the dataset by species\n",
        "setosa_df = iris_df[iris_df['species'] == 'setosa']\n",
        "versicolor_df = iris_df[iris_df['species'] == 'versicolor']\n",
        "virginica_df = iris_df[iris_df['species'] == 'virginica']\n",
        "\n",
        "# Print the basic statistical details for each species\n",
        "print('Iris-setosa:')\n",
        "print(setosa_df.describe())\n",
        "\n",
        "print('Iris-versicolor:')\n",
        "print(versicolor_df.describe())\n",
        "\n",
        "print('Iris-virginica:')\n",
        "print(virginica_df.describe())\n"
      ],
      "metadata": {
        "colab": {
          "base_uri": "https://localhost:8080/"
        },
        "id": "z6kI4LvveuB4",
        "outputId": "9f756746-b869-41bb-c711-291dffd48cf6"
      },
      "execution_count": null,
      "outputs": [
        {
          "output_type": "stream",
          "name": "stdout",
          "text": [
            "Iris-setosa:\n",
            "       sepal_length  sepal_width  petal_length  petal_width\n",
            "count      50.00000    50.000000     50.000000    50.000000\n",
            "mean        5.00600     3.428000      1.462000     0.246000\n",
            "std         0.35249     0.379064      0.173664     0.105386\n",
            "min         4.30000     2.300000      1.000000     0.100000\n",
            "25%         4.80000     3.200000      1.400000     0.200000\n",
            "50%         5.00000     3.400000      1.500000     0.200000\n",
            "75%         5.20000     3.675000      1.575000     0.300000\n",
            "max         5.80000     4.400000      1.900000     0.600000\n",
            "Iris-versicolor:\n",
            "       sepal_length  sepal_width  petal_length  petal_width\n",
            "count     50.000000    50.000000     50.000000    50.000000\n",
            "mean       5.936000     2.770000      4.260000     1.326000\n",
            "std        0.516171     0.313798      0.469911     0.197753\n",
            "min        4.900000     2.000000      3.000000     1.000000\n",
            "25%        5.600000     2.525000      4.000000     1.200000\n",
            "50%        5.900000     2.800000      4.350000     1.300000\n",
            "75%        6.300000     3.000000      4.600000     1.500000\n",
            "max        7.000000     3.400000      5.100000     1.800000\n",
            "Iris-virginica:\n",
            "       sepal_length  sepal_width  petal_length  petal_width\n",
            "count      50.00000    50.000000     50.000000     50.00000\n",
            "mean        6.58800     2.974000      5.552000      2.02600\n",
            "std         0.63588     0.322497      0.551895      0.27465\n",
            "min         4.90000     2.200000      4.500000      1.40000\n",
            "25%         6.22500     2.800000      5.100000      1.80000\n",
            "50%         6.50000     3.000000      5.550000      2.00000\n",
            "75%         6.90000     3.175000      5.875000      2.30000\n",
            "max         7.90000     3.800000      6.900000      2.50000\n"
          ]
        }
      ]
    },
    {
      "cell_type": "code",
      "source": [],
      "metadata": {
        "id": "UrDjYkjMe6gx"
      },
      "execution_count": null,
      "outputs": []
    }
  ]
}
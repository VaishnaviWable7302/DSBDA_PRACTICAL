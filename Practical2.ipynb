{
  "nbformat": 4,
  "nbformat_minor": 0,
  "metadata": {
    "colab": {
      "provenance": []
    },
    "kernelspec": {
      "name": "python3",
      "display_name": "Python 3"
    },
    "language_info": {
      "name": "python"
    }
  },
  "cells": [
    {
      "cell_type": "code",
      "execution_count": null,
      "metadata": {
        "id": "G80pcTEhchSg"
      },
      "outputs": [],
      "source": [
        "import numpy as np\n",
        "import pandas as pd"
      ]
    },
    {
      "cell_type": "code",
      "source": [
        "# Create the dataset\n",
        "np.random.seed(123)\n",
        "students = pd.DataFrame({\n",
        "    'Student ID': range(1, 1001),\n",
        "    'Gender': np.random.choice(['Male', 'Female'], size=1000),\n",
        "    'Age': np.random.normal(20, 2, size=1000),\n",
        "    'Course': np.random.choice(['Science', 'Arts', 'Commerce'], size=1000),\n",
        "    'Attendance Percentage': np.random.normal(80, 10, size=1000),\n",
        "    'Midterm Score': np.random.normal(70, 15, size=1000),\n",
        "    'Final Exam Score': np.random.normal(75, 10, size=1000)\n",
        "})"
      ],
      "metadata": {
        "id": "KRqeXY17cnjT"
      },
      "execution_count": null,
      "outputs": []
    },
    {
      "cell_type": "code",
      "source": [
        "# Assign overall grade based on final exam score\n",
        "students['Overall Grade'] = pd.cut(students['Final Exam Score'], bins=[0, 60, 70, 80, 90, 100], \n",
        "                                   labels=['F', 'D', 'C', 'B', 'A'])"
      ],
      "metadata": {
        "id": "YMkkNnRbcwAO"
      },
      "execution_count": null,
      "outputs": []
    },
    {
      "cell_type": "code",
      "source": [
        "# Check for missing values\n",
        "students.isnull().sum()\n",
        "\n",
        "# Check for inconsistencies in categorical variables\n",
        "students['Gender'].value_counts()\n",
        "students['Course'].value_counts()\n",
        "students['Overall Grade'].value_counts()\n"
      ],
      "metadata": {
        "colab": {
          "base_uri": "https://localhost:8080/"
        },
        "id": "MOOD2bm2c1bL",
        "outputId": "2674c802-b2ab-4688-adc2-6bbaf8ff44a5"
      },
      "execution_count": null,
      "outputs": [
        {
          "output_type": "execute_result",
          "data": {
            "text/plain": [
              "C    357\n",
              "B    280\n",
              "D    235\n",
              "A     71\n",
              "F     53\n",
              "Name: Overall Grade, dtype: int64"
            ]
          },
          "metadata": {},
          "execution_count": 5
        }
      ]
    },
    {
      "cell_type": "code",
      "source": [
        "import seaborn as sns\n",
        "import matplotlib.pyplot as plt\n",
        "\n",
        "# Plot boxplots for numeric variables\n",
        "sns.boxplot(data=students[['Age', 'Attendance Percentage', 'Midterm Score', 'Final Exam Score']])\n",
        "plt.show()\n"
      ],
      "metadata": {
        "colab": {
          "base_uri": "https://localhost:8080/",
          "height": 432
        },
        "id": "9bSXBh9MdQgB",
        "outputId": "e7bc9aff-4efe-4155-bdc8-36cfc315cb69"
      },
      "execution_count": null,
      "outputs": [
        {
          "output_type": "display_data",
          "data": {
            "text/plain": [
              "<Figure size 640x480 with 1 Axes>"
            ],
            "image/png": "[encoded data removed]"
          },
          "metadata": {}
        }
      ]
    },
    {
      "cell_type": "code",
      "source": [
        "from scipy.stats.mstats import winsorize\n",
        "\n",
        "# Apply Winsorization to deal with outliers\n",
        "students['Age'] = winsorize(students['Age'], limits=[0.05, 0.05])\n",
        "students['Attendance Percentage'] = winsorize(students['Attendance Percentage'], limits=[0.05, 0])\n"
      ],
      "metadata": {
        "id": "sVSjX3hGde_T"
      },
      "execution_count": null,
      "outputs": []
    },
    {
      "cell_type": "code",
      "source": [],
      "metadata": {
        "id": "tgrnsVZPdkes"
      },
      "execution_count": null,
      "outputs": []
    }
  ]
}